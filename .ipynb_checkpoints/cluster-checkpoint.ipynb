{
 "cells": [
  {
   "cell_type": "code",
   "execution_count": 21,
   "metadata": {},
   "outputs": [],
   "source": [
    "import pandas as pd\n",
    "import numpy as np\n",
    "import string\n",
    "\n",
    "from sklearn.feature_extraction.text import TfidfVectorizer\n",
    "from sklearn.cluster import AgglomerativeClustering, DBSCAN\n",
    "from sklearn.metrics import pairwise_distances"
   ]
  },
  {
   "cell_type": "code",
   "execution_count": 5,
   "metadata": {},
   "outputs": [],
   "source": [
    "def process_parser_data(file_name, start_date, end_date):\n",
    "    dataset = pd.read_csv(\n",
    "        file_name, sep=',', quotechar='\\\"', escapechar='\\\\',\n",
    "        encoding='utf-8', error_bad_lines=False, header=0,\n",
    "        verbose=False, keep_date_col=True, index_col=False)\n",
    "    dataset = dataset[[\"date\", \"url\", \"edition\", \"title\", \"text\", \"authors\", \"topics\"]]\n",
    "    dataset = dataset[(~dataset[\"text\"].isnull() & ~dataset[\"title\"].isnull())]\n",
    "    dataset[\"date\"] = pd.to_datetime(dataset[\"date\"])\n",
    "    dataset[\"text\"] = dataset[\"text\"].apply(lambda x: x.replace(\"\\\\n\", \" \"))\n",
    "    dataset[\"edition\"] = dataset[\"edition\"].apply(lambda x: None if x == \"-\" else x)\n",
    "    if start_date:\n",
    "        dataset = dataset[dataset[\"date\"] >= start_date]\n",
    "    if end_date:\n",
    "        dataset = dataset[dataset[\"date\"] < end_date]\n",
    "    dataset.sort_values(\"date\", inplace=True)\n",
    "    dataset.drop_duplicates(subset=[\"title\", \"text\"], keep='last', inplace=True)\n",
    "    dataset.drop_duplicates(subset=[\"url\"], keep='last', inplace=True)\n",
    "    print(dataset.info())\n",
    "    print(dataset.head(5))\n",
    "    return dataset"
   ]
  },
  {
   "cell_type": "code",
   "execution_count": 6,
   "metadata": {
    "scrolled": true
   },
   "outputs": [
    {
     "name": "stderr",
     "output_type": "stream",
     "text": [
      "b'Skipping line 57426: expected 17 fields, saw 19\\n'\n"
     ]
    },
    {
     "name": "stdout",
     "output_type": "stream",
     "text": [
      "<class 'pandas.core.frame.DataFrame'>\n",
      "Int64Index: 72569 entries, 49408 to 74060\n",
      "Data columns (total 7 columns):\n",
      "date       72569 non-null datetime64[ns]\n",
      "url        72569 non-null object\n",
      "edition    0 non-null object\n",
      "title      72569 non-null object\n",
      "text       72569 non-null object\n",
      "authors    0 non-null float64\n",
      "topics     0 non-null float64\n",
      "dtypes: datetime64[ns](1), float64(2), object(4)\n",
      "memory usage: 4.4+ MB\n",
      "None\n",
      "                     date                                                url  \\\n",
      "49408 2014-09-12 09:04:00  https://meduza.io/news/2014/09/12/v-den-rozhde...   \n",
      "49409 2014-10-07 13:19:00  https://meduza.io/news/2014/10/07/v-pravitelst...   \n",
      "49410 2014-10-08 08:36:00  https://meduza.io/cards/7-russkiy-veb-chto-s-n...   \n",
      "49411 2014-10-09 09:15:00  https://meduza.io/news/2014/10/09/sk-potrebova...   \n",
      "49412 2014-10-10 08:27:00  https://meduza.io/cards/pridetsya-li-platit-za...   \n",
      "\n",
      "      edition                                              title  \\\n",
      "49408    None  В день рождения Путина предложили отмечать Ден...   \n",
      "49409    None  В правительстве назвали четырехдневную рабочую...   \n",
      "49410    None       Отключат ли Россию от глобального интернета?   \n",
      "49411    None             СК потребовал 190 млрд с АФК «Система»   \n",
      "49412    None                    Придется ли платить за YouTube?   \n",
      "\n",
      "                                                    text  authors  topics  \n",
      "49408  В Госдуме предложили учредить новый праздник —...      NaN     NaN  \n",
      "49409  Вице-премьер РФ Ольга Голодец заявила, что сей...      NaN     NaN  \n",
      "49410  Российские власти уверены: глобальную сеть кон...      NaN     NaN  \n",
      "49411  Следственный комитет потребовал взыскать с АФК...      NaN     NaN  \n",
      "49412  Федеральная антимонопольная служба предлагает ...      NaN     NaN  \n"
     ]
    }
   ],
   "source": [
    "dataset = process_parser_data('./datasets/meduza_19800101_20191002.csv', '', '')"
   ]
  },
  {
   "cell_type": "code",
   "execution_count": 28,
   "metadata": {},
   "outputs": [
    {
     "data": {
      "text/plain": [
       "49408    в день рождения путина предложили отмечать ден...\n",
       "49409    в правительстве назвали четырехдневную рабочую...\n",
       "49410         отключат ли россию от глобального интернета?\n",
       "49411               ск потребовал 190 млрд с афк «система»\n",
       "49412                      придется ли платить за youtube?\n",
       "49413    под донецком обстреляли автомобиль бывшего «на...\n",
       "49414           втб и сбербанк создадут альтернативу swift\n",
       "49415                  ротенберги передали активы сыновьям\n",
       "49416    обнародован список зарегистрировавшихся в роск...\n",
       "49417    путин ответил на санкции созданием госкорпорац...\n",
       "Name: title_clean, dtype: object"
      ]
     },
     "execution_count": 28,
     "metadata": {},
     "output_type": "execute_result"
    }
   ],
   "source": [
    "dataset['title_clean'] = dataset['title'].str.lower().str.strip(string.digits)\n",
    "dataset.title_clean.head(10)"
   ]
  },
  {
   "cell_type": "code",
   "execution_count": 29,
   "metadata": {},
   "outputs": [
    {
     "data": {
      "text/plain": [
       "<72569x72365 sparse matrix of type '<class 'numpy.float64'>'\n",
       "\twith 637384 stored elements in Compressed Sparse Row format>"
      ]
     },
     "execution_count": 29,
     "metadata": {},
     "output_type": "execute_result"
    }
   ],
   "source": [
    "vectorizer = TfidfVectorizer()\n",
    "titles_tfidf = vectorizer.fit_transform(dataset['title_clean'])\n",
    "titles_tfidf"
   ]
  },
  {
   "cell_type": "code",
   "execution_count": 38,
   "metadata": {},
   "outputs": [
    {
     "data": {
      "text/plain": [
       "<72569x1000 sparse matrix of type '<class 'numpy.float64'>'\n",
       "\twith 276971 stored elements in Compressed Sparse Row format>"
      ]
     },
     "execution_count": 38,
     "metadata": {},
     "output_type": "execute_result"
    }
   ],
   "source": [
    "vectorizer = TfidfVectorizer(max_features=1000)\n",
    "titles_tfidf = vectorizer.fit_transform(dataset['title'])\n",
    "titles_tfidf"
   ]
  },
  {
   "cell_type": "code",
   "execution_count": 87,
   "metadata": {},
   "outputs": [],
   "source": [
    "train_size = 20000"
   ]
  },
  {
   "cell_type": "code",
   "execution_count": 88,
   "metadata": {},
   "outputs": [],
   "source": [
    "titles_tfidf_sample = pd.DataFrame(titles_tfidf.toarray())[:train_size]\n",
    "\n",
    "distances = pairwise_distances(titles_tfidf_sample,\n",
    "                               metric='cosine',\n",
    "                               n_jobs=3)\n",
    "\n",
    "distances\n",
    "\n",
    "clustering = AgglomerativeClustering(\n",
    "            affinity=\"precomputed\",\n",
    "            distance_threshold=0.04,\n",
    "            n_clusters=None,\n",
    "            linkage=\"average\")\n",
    "\n",
    "labels = clustering.fit_predict(distances)"
   ]
  },
  {
   "cell_type": "code",
   "execution_count": 89,
   "metadata": {},
   "outputs": [
    {
     "data": {
      "text/plain": [
       "(20000, 16110)"
      ]
     },
     "execution_count": 89,
     "metadata": {},
     "output_type": "execute_result"
    }
   ],
   "source": [
    "len(labels), len(set(labels))"
   ]
  },
  {
   "cell_type": "code",
   "execution_count": 90,
   "metadata": {},
   "outputs": [
    {
     "data": {
      "text/plain": [
       "array([0, 0], dtype=int64)"
      ]
     },
     "execution_count": 90,
     "metadata": {},
     "output_type": "execute_result"
    }
   ],
   "source": [
    "labels[labels == 0]"
   ]
  },
  {
   "cell_type": "code",
   "execution_count": 94,
   "metadata": {},
   "outputs": [
    {
     "name": "stdout",
     "output_type": "stream",
     "text": [
      "https://meduza.io/news/2014/10/22/kinokompaniyu-amedia-vystavili-na-prodazhu https://meduza.io/news/2015/12/10/restoran-praga-vystavili-na-prodazhu https://meduza.io/news/2016/01/10/osobnyak-osnovatelya-playboy-vystavyat-na-prodazhu https://meduza.io/news/2016/02/01/na-turetskih-kurortah-vystavili-na-prodazhu-1300-oteley\n"
     ]
    }
   ],
   "source": [
    "print(*dataset[:train_size][labels == 3]['url'])"
   ]
  }
 ],
 "metadata": {
  "kernelspec": {
   "display_name": "Python 3",
   "language": "python",
   "name": "python3"
  },
  "language_info": {
   "codemirror_mode": {
    "name": "ipython",
    "version": 3
   },
   "file_extension": ".py",
   "mimetype": "text/x-python",
   "name": "python",
   "nbconvert_exporter": "python",
   "pygments_lexer": "ipython3",
   "version": "3.7.4"
  }
 },
 "nbformat": 4,
 "nbformat_minor": 4
}
