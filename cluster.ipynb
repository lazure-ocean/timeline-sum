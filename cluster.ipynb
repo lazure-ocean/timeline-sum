{
 "cells": [
  {
   "cell_type": "markdown",
   "metadata": {},
   "source": [
    "# Abstractive Timeline Summarization"
   ]
  },
  {
   "cell_type": "code",
   "execution_count": 1,
   "metadata": {},
   "outputs": [],
   "source": [
    "import pandas as pd\n",
    "import numpy as np\n",
    "import string\n",
    "\n",
    "from sklearn.feature_extraction.text import TfidfVectorizer\n",
    "from sklearn.cluster import AgglomerativeClustering, DBSCAN\n",
    "from sklearn.metrics import pairwise_distances\n",
    "\n",
    "from utils import process_parser_data"
   ]
  },
  {
   "cell_type": "markdown",
   "metadata": {},
   "source": [
    "### Data downloading"
   ]
  },
  {
   "cell_type": "code",
   "execution_count": 105,
   "metadata": {},
   "outputs": [],
   "source": [
    "# run shell script or download manually"
   ]
  },
  {
   "cell_type": "markdown",
   "metadata": {},
   "source": [
    "### Data parsing"
   ]
  },
  {
   "cell_type": "code",
   "execution_count": 7,
   "metadata": {
    "scrolled": true
   },
   "outputs": [
    {
     "name": "stderr",
     "output_type": "stream",
     "text": [
      "b'Skipping line 57426: expected 17 fields, saw 19\\n'\n"
     ]
    },
    {
     "name": "stdout",
     "output_type": "stream",
     "text": [
      "<class 'pandas.core.frame.DataFrame'>\n",
      "Int64Index: 72569 entries, 49408 to 74060\n",
      "Data columns (total 7 columns):\n",
      "date       72569 non-null datetime64[ns]\n",
      "url        72569 non-null object\n",
      "edition    0 non-null object\n",
      "title      72569 non-null object\n",
      "text       72569 non-null object\n",
      "authors    0 non-null float64\n",
      "topics     0 non-null float64\n",
      "dtypes: datetime64[ns](1), float64(2), object(4)\n",
      "memory usage: 4.4+ MB\n",
      "None\n",
      "                     date                                                url  \\\n",
      "49408 2014-09-12 09:04:00  https://meduza.io/news/2014/09/12/v-den-rozhde...   \n",
      "49409 2014-10-07 13:19:00  https://meduza.io/news/2014/10/07/v-pravitelst...   \n",
      "49410 2014-10-08 08:36:00  https://meduza.io/cards/7-russkiy-veb-chto-s-n...   \n",
      "49411 2014-10-09 09:15:00  https://meduza.io/news/2014/10/09/sk-potrebova...   \n",
      "49412 2014-10-10 08:27:00  https://meduza.io/cards/pridetsya-li-platit-za...   \n",
      "\n",
      "      edition                                              title  \\\n",
      "49408    None  В день рождения Путина предложили отмечать Ден...   \n",
      "49409    None  В правительстве назвали четырехдневную рабочую...   \n",
      "49410    None       Отключат ли Россию от глобального интернета?   \n",
      "49411    None             СК потребовал 190 млрд с АФК «Система»   \n",
      "49412    None                    Придется ли платить за YouTube?   \n",
      "\n",
      "                                                    text  authors  topics  \n",
      "49408  В Госдуме предложили учредить новый праздник —...      NaN     NaN  \n",
      "49409  Вице-премьер РФ Ольга Голодец заявила, что сей...      NaN     NaN  \n",
      "49410  Российские власти уверены: глобальную сеть кон...      NaN     NaN  \n",
      "49411  Следственный комитет потребовал взыскать с АФК...      NaN     NaN  \n",
      "49412  Федеральная антимонопольная служба предлагает ...      NaN     NaN  \n"
     ]
    }
   ],
   "source": [
    "dataset_m = process_parser_data('./datasets/meduza_19800101_20191002.csv')"
   ]
  },
  {
   "cell_type": "code",
   "execution_count": 8,
   "metadata": {},
   "outputs": [
    {
     "name": "stderr",
     "output_type": "stream",
     "text": [
      "b'Skipping line 57426: expected 17 fields, saw 19\\n'\n"
     ]
    },
    {
     "name": "stdout",
     "output_type": "stream",
     "text": [
      "<class 'pandas.core.frame.DataFrame'>\n",
      "Int64Index: 72569 entries, 49408 to 74060\n",
      "Data columns (total 7 columns):\n",
      "date       72569 non-null datetime64[ns]\n",
      "url        72569 non-null object\n",
      "edition    0 non-null object\n",
      "title      72569 non-null object\n",
      "text       72569 non-null object\n",
      "authors    0 non-null float64\n",
      "topics     0 non-null float64\n",
      "dtypes: datetime64[ns](1), float64(2), object(4)\n",
      "memory usage: 4.4+ MB\n",
      "None\n",
      "                     date                                                url  \\\n",
      "49408 2014-09-12 09:04:00  https://meduza.io/news/2014/09/12/v-den-rozhde...   \n",
      "49409 2014-10-07 13:19:00  https://meduza.io/news/2014/10/07/v-pravitelst...   \n",
      "49410 2014-10-08 08:36:00  https://meduza.io/cards/7-russkiy-veb-chto-s-n...   \n",
      "49411 2014-10-09 09:15:00  https://meduza.io/news/2014/10/09/sk-potrebova...   \n",
      "49412 2014-10-10 08:27:00  https://meduza.io/cards/pridetsya-li-platit-za...   \n",
      "\n",
      "      edition                                              title  \\\n",
      "49408    None  В день рождения Путина предложили отмечать Ден...   \n",
      "49409    None  В правительстве назвали четырехдневную рабочую...   \n",
      "49410    None       Отключат ли Россию от глобального интернета?   \n",
      "49411    None             СК потребовал 190 млрд с АФК «Система»   \n",
      "49412    None                    Придется ли платить за YouTube?   \n",
      "\n",
      "                                                    text  authors  topics  \n",
      "49408  В Госдуме предложили учредить новый праздник —...      NaN     NaN  \n",
      "49409  Вице-премьер РФ Ольга Голодец заявила, что сей...      NaN     NaN  \n",
      "49410  Российские власти уверены: глобальную сеть кон...      NaN     NaN  \n",
      "49411  Следственный комитет потребовал взыскать с АФК...      NaN     NaN  \n",
      "49412  Федеральная антимонопольная служба предлагает ...      NaN     NaN  \n"
     ]
    }
   ],
   "source": [
    "dataset_g = process_parser_data('./datasets/meduza_19800101_20191002.csv')"
   ]
  },
  {
   "cell_type": "markdown",
   "metadata": {},
   "source": [
    "### Split texts into sententces\n"
   ]
  },
  {
   "cell_type": "code",
   "execution_count": 63,
   "metadata": {},
   "outputs": [],
   "source": [
    "from nltk import sent_tokenize"
   ]
  },
  {
   "cell_type": "code",
   "execution_count": 68,
   "metadata": {},
   "outputs": [
    {
     "data": {
      "text/plain": [
       "'В\\xa0Госдуме предложили учредить новый праздник\\xa0— День «вежливых людей». С\\xa0такой инициативой выступил лидер Российской партии пенсионеров за\\xa0справедливость Игорь Зотов, пишут «Известия».nНовый праздник будет посвящен военным, которые следили за\\xa0безопасностью во\\xa0время референдума в\\xa0Крыму. Зотов отметил, что инициатива создания нового праздника возникла после многочисленных обращений граждан с\\xa0благодарностью в\\xa0адрес «вежливых людей».n«Жители Крымского полуострова до\\xa0сих пор вспоминают „тихий подвиг“ людей в\\xa0масках. Весь мир видел только их\\xa0глаза\\xa0— добрые, спокойные и\\xa0немного задумчивые… Поэтому у\\xa0крымчан не\\xa0было страха, который обычно испытывают люди при виде человека с\\xa0оружием, они не\\xa0испугались правды. „Вежливые люди“ несли с\\xa0собой\\xa0мир. Они вызывали у\\xa0граждан доверие и\\xa0чувство защищенности»,\\xa0— отмечается в\\xa0пояснительной записке к\\xa0закону. По\\xa0идее депутата, праздник должен символизировать возрождение единства страны.nДень «вежливых людей» предлагается праздновать 7\\xa0октября. В\\xa0этот\\xa0же день свой день рождения отмечает президент России Владимир Путин.n16\\xa0марта в\\xa0Крыму прошел референдум о\\xa0присоединении к\\xa0России, большинство жителей полуострова поддержали эту инициативу. Власти республики заключили соответствующее соглашение с\\xa0РФ, после чего Крым и\\xa0Севастополь стали новыми российскими регионами.'"
      ]
     },
     "execution_count": 68,
     "metadata": {},
     "output_type": "execute_result"
    }
   ],
   "source": [
    "dataset_m['text'][dataset_m.index[0]]"
   ]
  },
  {
   "cell_type": "code",
   "execution_count": 78,
   "metadata": {},
   "outputs": [
    {
     "data": {
      "text/plain": [
       "['В\\xa0Госдуме предложили учредить новый праздник\\xa0— День «вежливых людей».',\n",
       " 'С\\xa0такой инициативой выступил лидер Российской партии пенсионеров за\\xa0справедливость Игорь Зотов, пишут «Известия».nНовый праздник будет посвящен военным, которые следили за\\xa0безопасностью во\\xa0время референдума в\\xa0Крыму.',\n",
       " 'Зотов отметил, что инициатива создания нового праздника возникла после многочисленных обращений граждан с\\xa0благодарностью в\\xa0адрес «вежливых людей».n«Жители Крымского полуострова до\\xa0сих пор вспоминают „тихий подвиг“ людей в\\xa0масках.',\n",
       " 'Весь мир видел только их\\xa0глаза\\xa0— добрые, спокойные и\\xa0немного задумчивые… Поэтому у\\xa0крымчан не\\xa0было страха, который обычно испытывают люди при виде человека с\\xa0оружием, они не\\xa0испугались правды.',\n",
       " '„Вежливые люди“ несли с\\xa0собой\\xa0мир.',\n",
       " 'Они вызывали у\\xa0граждан доверие и\\xa0чувство защищенности»,\\xa0— отмечается в\\xa0пояснительной записке к\\xa0закону.',\n",
       " 'По\\xa0идее депутата, праздник должен символизировать возрождение единства страны.nДень «вежливых людей» предлагается праздновать 7\\xa0октября.',\n",
       " 'В\\xa0этот\\xa0же день свой день рождения отмечает президент России Владимир Путин.n16\\xa0марта в\\xa0Крыму прошел референдум о\\xa0присоединении к\\xa0России, большинство жителей полуострова поддержали эту инициативу.',\n",
       " 'Власти республики заключили соответствующее соглашение с\\xa0РФ, после чего Крым и\\xa0Севастополь стали новыми российскими регионами.']"
      ]
     },
     "execution_count": 78,
     "metadata": {},
     "output_type": "execute_result"
    }
   ],
   "source": [
    "sent_tokenize(dataset_m['text'][dataset_m.index[0]])"
   ]
  },
  {
   "cell_type": "code",
   "execution_count": 79,
   "metadata": {},
   "outputs": [],
   "source": [
    "dataset_m['sentences'] = dataset_m['text'].apply(sent_tokenize)"
   ]
  },
  {
   "cell_type": "code",
   "execution_count": null,
   "metadata": {},
   "outputs": [],
   "source": [
    "### EXPAND THE DATAFRAME TO SENTENCES"
   ]
  },
  {
   "cell_type": "markdown",
   "metadata": {},
   "source": [
    "### Feature generating\n",
    "\n",
    "* TF-IDF for title and text\n",
    "- Later will add embeddings"
   ]
  },
  {
   "cell_type": "code",
   "execution_count": 101,
   "metadata": {},
   "outputs": [
    {
     "data": {
      "text/plain": [
       "<72569x5000 sparse matrix of type '<class 'numpy.float64'>'\n",
       "\twith 434215 stored elements in Compressed Sparse Row format>"
      ]
     },
     "execution_count": 101,
     "metadata": {},
     "output_type": "execute_result"
    }
   ],
   "source": [
    "vectorizer = TfidfVectorizer(max_features=5000)\n",
    "titles_tfidf = vectorizer.fit_transform(dataset['title'])\n",
    "titles_tfidf"
   ]
  },
  {
   "cell_type": "markdown",
   "metadata": {},
   "source": [
    "### Dates extraction\n",
    "\n",
    "* using natasha (https://github.com/natasha/natasha)"
   ]
  },
  {
   "cell_type": "code",
   "execution_count": 3,
   "metadata": {},
   "outputs": [],
   "source": [
    "from natasha import DatesExtractor"
   ]
  },
  {
   "cell_type": "code",
   "execution_count": 77,
   "metadata": {},
   "outputs": [
    {
     "data": {
      "text/html": [
       "<style>\n",
       "\n",
       ".markup {\n",
       "    white-space: pre-wrap;\n",
       "}\n",
       "\n",
       ".markup > mark {\n",
       "    padding: 0.15em;\n",
       "    border-radius: 0.25em;\n",
       "    border: 1px solid #fdf07c;\n",
       "    background: #ffffc2;\n",
       "}\n",
       "    </style><div class=\"markup tex2jax_ignore\">на первой неделе <mark>января 2017</mark></div>"
      ],
      "text/plain": [
       "Matches('на первой неделе января 2017',\n",
       "        [Match([MorphToken('января',\n",
       "                           [17, 23),\n",
       "                           'RU',\n",
       "                           [Form('январь', Grams(NOUN,gent,inan,masc,sing))]),\n",
       "                Token('2017', [24, 28), 'INT')],\n",
       "               [17, 28))])"
      ]
     },
     "execution_count": 77,
     "metadata": {},
     "output_type": "execute_result"
    }
   ],
   "source": [
    "dates_extractor = DatesExtractor()\n",
    "dates_extractor('на первой неделе января 2017')"
   ]
  },
  {
   "cell_type": "code",
   "execution_count": 54,
   "metadata": {},
   "outputs": [],
   "source": [
    "def date_from_match(match, DCT):\n",
    "    match = match.fact\n",
    "    year = match.year\n",
    "    month = match.month\n",
    "    day = match.day\n",
    "    date = [year, month, day]\n",
    "    for i, d in enumerate(date):\n",
    "        if not d:\n",
    "            date[i] = DCT[i]\n",
    "    return \"-\".join(map(str, date))\n",
    "\n",
    "def get_all_dates_from_text(text, DCT = (0, 0, 0)):\n",
    "    dates_extractor = DatesExtractor()\n",
    "    matches = dates_extractor(text)\n",
    "    dates = []\n",
    "    for match in matches:\n",
    "        dates.append(date_from_match(match, DCT))"
   ]
  },
  {
   "cell_type": "code",
   "execution_count": 55,
   "metadata": {},
   "outputs": [],
   "source": [
    "dataset_m['date'][dataset_m.index[0]].date()\n",
    "\n",
    "def dataset_date_to_tuple(dataset_date):\n",
    "    date_ = dataset_date.date()\n",
    "    return (date_.year, date_.month, date_.day)"
   ]
  },
  {
   "cell_type": "code",
   "execution_count": 60,
   "metadata": {},
   "outputs": [],
   "source": [
    "dataset_m['DCT'] = dataset_m['date'].apply(dataset_date_to_tuple)"
   ]
  },
  {
   "cell_type": "code",
   "execution_count": null,
   "metadata": {},
   "outputs": [],
   "source": []
  },
  {
   "cell_type": "markdown",
   "metadata": {},
   "source": [
    "### Calculating pairwise distances for clustering"
   ]
  },
  {
   "cell_type": "code",
   "execution_count": 107,
   "metadata": {},
   "outputs": [
    {
     "data": {
      "text/plain": [
       "array([[0., 1., 1., ..., 1., 1., 1.],\n",
       "       [1., 0., 1., ..., 1., 1., 1.],\n",
       "       [1., 1., 0., ..., 1., 1., 1.],\n",
       "       ...,\n",
       "       [1., 1., 1., ..., 0., 1., 1.],\n",
       "       [1., 1., 1., ..., 1., 0., 1.],\n",
       "       [1., 1., 1., ..., 1., 1., 0.]])"
      ]
     },
     "execution_count": 107,
     "metadata": {},
     "output_type": "execute_result"
    }
   ],
   "source": [
    "train_size = 20000\n",
    "\n",
    "titles_tfidf_sample = pd.DataFrame(titles_tfidf[:train_size].toarray())\n",
    "\n",
    "distances = pairwise_distances(titles_tfidf_sample,\n",
    "                               metric='cosine',\n",
    "                               n_jobs=3)\n",
    "distances"
   ]
  },
  {
   "cell_type": "markdown",
   "metadata": {},
   "source": [
    "### Running clustering algorithm"
   ]
  },
  {
   "cell_type": "code",
   "execution_count": 108,
   "metadata": {},
   "outputs": [],
   "source": [
    "clustering = AgglomerativeClustering(\n",
    "            affinity=\"precomputed\",\n",
    "            distance_threshold=0.04,\n",
    "            n_clusters=None,\n",
    "            linkage=\"average\")\n",
    "\n",
    "labels = clustering.fit_predict(distances)"
   ]
  },
  {
   "cell_type": "code",
   "execution_count": 89,
   "metadata": {},
   "outputs": [
    {
     "data": {
      "text/plain": [
       "(20000, 16110)"
      ]
     },
     "execution_count": 89,
     "metadata": {},
     "output_type": "execute_result"
    }
   ],
   "source": [
    "len(labels), len(set(labels))"
   ]
  },
  {
   "cell_type": "code",
   "execution_count": 90,
   "metadata": {},
   "outputs": [
    {
     "data": {
      "text/plain": [
       "array([0, 0], dtype=int64)"
      ]
     },
     "execution_count": 90,
     "metadata": {},
     "output_type": "execute_result"
    }
   ],
   "source": [
    "labels[labels == 0]"
   ]
  },
  {
   "cell_type": "code",
   "execution_count": 94,
   "metadata": {},
   "outputs": [
    {
     "name": "stdout",
     "output_type": "stream",
     "text": [
      "https://meduza.io/news/2014/10/22/kinokompaniyu-amedia-vystavili-na-prodazhu https://meduza.io/news/2015/12/10/restoran-praga-vystavili-na-prodazhu https://meduza.io/news/2016/01/10/osobnyak-osnovatelya-playboy-vystavyat-na-prodazhu https://meduza.io/news/2016/02/01/na-turetskih-kurortah-vystavili-na-prodazhu-1300-oteley\n"
     ]
    }
   ],
   "source": [
    "print(*dataset[:train_size][labels == 3]['url'])"
   ]
  }
 ],
 "metadata": {
  "kernelspec": {
   "display_name": "Python 3",
   "language": "python",
   "name": "python3"
  },
  "language_info": {
   "codemirror_mode": {
    "name": "ipython",
    "version": 3
   },
   "file_extension": ".py",
   "mimetype": "text/x-python",
   "name": "python",
   "nbconvert_exporter": "python",
   "pygments_lexer": "ipython3",
   "version": "3.7.4"
  }
 },
 "nbformat": 4,
 "nbformat_minor": 4
}
