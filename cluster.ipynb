{
 "cells": [
  {
   "cell_type": "markdown",
   "metadata": {},
   "source": [
    "# Abstractive Timeline Summarization"
   ]
  },
  {
   "cell_type": "code",
   "execution_count": 1,
   "metadata": {},
   "outputs": [],
   "source": [
    "import pandas as pd\n",
    "import numpy as np\n",
    "import string\n",
    "\n",
    "from sklearn.feature_extraction.text import TfidfVectorizer\n",
    "from sklearn.cluster import AgglomerativeClustering, DBSCAN\n",
    "from sklearn.metrics import pairwise_distances\n",
    "\n",
    "from utils import process_parser_data"
   ]
  },
  {
   "cell_type": "markdown",
   "metadata": {},
   "source": [
    "### Data downloading"
   ]
  },
  {
   "cell_type": "code",
   "execution_count": 105,
   "metadata": {},
   "outputs": [],
   "source": [
    "# run shell script or download manually"
   ]
  },
  {
   "cell_type": "markdown",
   "metadata": {},
   "source": [
    "### Data parsing"
   ]
  },
  {
   "cell_type": "code",
   "execution_count": 7,
   "metadata": {
    "scrolled": true
   },
   "outputs": [
    {
     "name": "stderr",
     "output_type": "stream",
     "text": [
      "b'Skipping line 57426: expected 17 fields, saw 19\\n'\n"
     ]
    },
    {
     "name": "stdout",
     "output_type": "stream",
     "text": [
      "<class 'pandas.core.frame.DataFrame'>\n",
      "Int64Index: 72569 entries, 49408 to 74060\n",
      "Data columns (total 7 columns):\n",
      "date       72569 non-null datetime64[ns]\n",
      "url        72569 non-null object\n",
      "edition    0 non-null object\n",
      "title      72569 non-null object\n",
      "text       72569 non-null object\n",
      "authors    0 non-null float64\n",
      "topics     0 non-null float64\n",
      "dtypes: datetime64[ns](1), float64(2), object(4)\n",
      "memory usage: 4.4+ MB\n",
      "None\n",
      "                     date                                                url  \\\n",
      "49408 2014-09-12 09:04:00  https://meduza.io/news/2014/09/12/v-den-rozhde...   \n",
      "49409 2014-10-07 13:19:00  https://meduza.io/news/2014/10/07/v-pravitelst...   \n",
      "49410 2014-10-08 08:36:00  https://meduza.io/cards/7-russkiy-veb-chto-s-n...   \n",
      "49411 2014-10-09 09:15:00  https://meduza.io/news/2014/10/09/sk-potrebova...   \n",
      "49412 2014-10-10 08:27:00  https://meduza.io/cards/pridetsya-li-platit-za...   \n",
      "\n",
      "      edition                                              title  \\\n",
      "49408    None  В день рождения Путина предложили отмечать Ден...   \n",
      "49409    None  В правительстве назвали четырехдневную рабочую...   \n",
      "49410    None       Отключат ли Россию от глобального интернета?   \n",
      "49411    None             СК потребовал 190 млрд с АФК «Система»   \n",
      "49412    None                    Придется ли платить за YouTube?   \n",
      "\n",
      "                                                    text  authors  topics  \n",
      "49408  В Госдуме предложили учредить новый праздник —...      NaN     NaN  \n",
      "49409  Вице-премьер РФ Ольга Голодец заявила, что сей...      NaN     NaN  \n",
      "49410  Российские власти уверены: глобальную сеть кон...      NaN     NaN  \n",
      "49411  Следственный комитет потребовал взыскать с АФК...      NaN     NaN  \n",
      "49412  Федеральная антимонопольная служба предлагает ...      NaN     NaN  \n"
     ]
    }
   ],
   "source": [
    "dataset_m = process_parser_data('./datasets/meduza_19800101_20191002.csv')"
   ]
  },
  {
   "cell_type": "code",
   "execution_count": 8,
   "metadata": {},
   "outputs": [
    {
     "name": "stderr",
     "output_type": "stream",
     "text": [
      "b'Skipping line 57426: expected 17 fields, saw 19\\n'\n"
     ]
    },
    {
     "name": "stdout",
     "output_type": "stream",
     "text": [
      "<class 'pandas.core.frame.DataFrame'>\n",
      "Int64Index: 72569 entries, 49408 to 74060\n",
      "Data columns (total 7 columns):\n",
      "date       72569 non-null datetime64[ns]\n",
      "url        72569 non-null object\n",
      "edition    0 non-null object\n",
      "title      72569 non-null object\n",
      "text       72569 non-null object\n",
      "authors    0 non-null float64\n",
      "topics     0 non-null float64\n",
      "dtypes: datetime64[ns](1), float64(2), object(4)\n",
      "memory usage: 4.4+ MB\n",
      "None\n",
      "                     date                                                url  \\\n",
      "49408 2014-09-12 09:04:00  https://meduza.io/news/2014/09/12/v-den-rozhde...   \n",
      "49409 2014-10-07 13:19:00  https://meduza.io/news/2014/10/07/v-pravitelst...   \n",
      "49410 2014-10-08 08:36:00  https://meduza.io/cards/7-russkiy-veb-chto-s-n...   \n",
      "49411 2014-10-09 09:15:00  https://meduza.io/news/2014/10/09/sk-potrebova...   \n",
      "49412 2014-10-10 08:27:00  https://meduza.io/cards/pridetsya-li-platit-za...   \n",
      "\n",
      "      edition                                              title  \\\n",
      "49408    None  В день рождения Путина предложили отмечать Ден...   \n",
      "49409    None  В правительстве назвали четырехдневную рабочую...   \n",
      "49410    None       Отключат ли Россию от глобального интернета?   \n",
      "49411    None             СК потребовал 190 млрд с АФК «Система»   \n",
      "49412    None                    Придется ли платить за YouTube?   \n",
      "\n",
      "                                                    text  authors  topics  \n",
      "49408  В Госдуме предложили учредить новый праздник —...      NaN     NaN  \n",
      "49409  Вице-премьер РФ Ольга Голодец заявила, что сей...      NaN     NaN  \n",
      "49410  Российские власти уверены: глобальную сеть кон...      NaN     NaN  \n",
      "49411  Следственный комитет потребовал взыскать с АФК...      NaN     NaN  \n",
      "49412  Федеральная антимонопольная служба предлагает ...      NaN     NaN  \n"
     ]
    }
   ],
   "source": [
    "dataset_g = process_parser_data('./datasets/meduza_19800101_20191002.csv')"
   ]
  },
  {
   "cell_type": "markdown",
   "metadata": {},
   "source": [
    "### Feature generating\n",
    "\n",
    "* TF-IDF for title and text\n",
    "- Later will add embeddings"
   ]
  },
  {
   "cell_type": "code",
   "execution_count": 101,
   "metadata": {},
   "outputs": [
    {
     "data": {
      "text/plain": [
       "<72569x5000 sparse matrix of type '<class 'numpy.float64'>'\n",
       "\twith 434215 stored elements in Compressed Sparse Row format>"
      ]
     },
     "execution_count": 101,
     "metadata": {},
     "output_type": "execute_result"
    }
   ],
   "source": [
    "vectorizer = TfidfVectorizer(max_features=5000)\n",
    "titles_tfidf = vectorizer.fit_transform(dataset['title'])\n",
    "titles_tfidf"
   ]
  },
  {
   "cell_type": "markdown",
   "metadata": {},
   "source": [
    "### Dates extraction\n",
    "\n",
    "* using natasha (https://github.com/natasha/natasha)"
   ]
  },
  {
   "cell_type": "code",
   "execution_count": 3,
   "metadata": {},
   "outputs": [],
   "source": [
    "from natasha import DatesExtractor"
   ]
  },
  {
   "cell_type": "code",
   "execution_count": 10,
   "metadata": {},
   "outputs": [],
   "source": [
    "dates_extractor = DatesExtractor()\n",
    "matches = dates_extractor(\"\"\"\n",
    "Михаил Мишустин назначен премьер-министром России. Дмитрий Медведев занял пост заместителя председателя Совбеза\n",
    "16:24, 16 января 2020\n",
    "Источник: Президент России\n",
    "Надежный источник\n",
    "\n",
    "Сегодня\n",
    "\n",
    "Михаил Мишустин указом президента РФ назначен на пост премьер-министра, сообщает пресс-служба Кремля.\n",
    "\n",
    "Также подписан указ об учреждении должности заместителя председателя Совета безопасности РФ и назначении на нее Дмитрия Медведева.\n",
    "\n",
    "Оба указа вступили в силу с момента подписания.\n",
    "\n",
    "Дмитрий Медведев 15 января на встрече с президентом РФ Владимиром Путиным объявил об отставке с поста главы правительства. Путин объявил, что планирует создать пост заместителя председателя Совбеза и предложить его Медведеву. Председателем Совбеза является Путин, Медведев входил в число постоянных членов этой структуры.\n",
    "\n",
    "На пост главы правительства Путин после отставки Медведева выдвинул главу Федеральной налоговой службы Михаила Мишустина. 16 января Госдума одобрила кандидатуру Мишустина. Представить новый состав правительства Мишустин пообещал в ближайшие дни. По закону, у нового премьера есть неделя на формирование кабинета.\n",
    "\"\"\")"
   ]
  },
  {
   "cell_type": "code",
   "execution_count": 35,
   "metadata": {},
   "outputs": [
    {
     "data": {
      "text/plain": [
       "'0-1-15'"
      ]
     },
     "execution_count": 35,
     "metadata": {},
     "output_type": "execute_result"
    }
   ],
   "source": [
    "matches[0].fact\n",
    "\n",
    "def date_from_match(match, DCT):\n",
    "    match = match.fact\n",
    "    year = match.year\n",
    "    month = match.month\n",
    "    day = match.day\n",
    "    date = [year, month, day]\n",
    "    for i, d in enumerate(date):\n",
    "        if not d:\n",
    "            date[i] = DCT[i]\n",
    "    return \"-\".join(map(str, date))\n",
    "\n",
    "def get_all_dates_from_text(text, DCT = (0, 0, 0)):\n",
    "    dates_extractor = DatesExtractor()\n",
    "    matches = dates_extractor(text)\n",
    "    dates = []\n",
    "    for match in matches:\n",
    "        dates.append(date_from_match(match, DCT))\n",
    "\n",
    "date_from_match(matches[1], (0, 0, 0))"
   ]
  },
  {
   "cell_type": "code",
   "execution_count": 53,
   "metadata": {},
   "outputs": [
    {
     "data": {
      "text/plain": [
       "datetime.date(2014, 9, 12)"
      ]
     },
     "execution_count": 53,
     "metadata": {},
     "output_type": "execute_result"
    }
   ],
   "source": [
    "dataset_m['date'][dataset_m.index[0]].date()\n",
    "\n",
    "def dataset_date_to_tuple(dataset_date):\n",
    "    "
   ]
  },
  {
   "cell_type": "markdown",
   "metadata": {},
   "source": [
    "### Calculating pairwise distances for clustering"
   ]
  },
  {
   "cell_type": "code",
   "execution_count": 107,
   "metadata": {},
   "outputs": [
    {
     "data": {
      "text/plain": [
       "array([[0., 1., 1., ..., 1., 1., 1.],\n",
       "       [1., 0., 1., ..., 1., 1., 1.],\n",
       "       [1., 1., 0., ..., 1., 1., 1.],\n",
       "       ...,\n",
       "       [1., 1., 1., ..., 0., 1., 1.],\n",
       "       [1., 1., 1., ..., 1., 0., 1.],\n",
       "       [1., 1., 1., ..., 1., 1., 0.]])"
      ]
     },
     "execution_count": 107,
     "metadata": {},
     "output_type": "execute_result"
    }
   ],
   "source": [
    "train_size = 20000\n",
    "\n",
    "titles_tfidf_sample = pd.DataFrame(titles_tfidf[:train_size].toarray())\n",
    "\n",
    "distances = pairwise_distances(titles_tfidf_sample,\n",
    "                               metric='cosine',\n",
    "                               n_jobs=3)\n",
    "distances"
   ]
  },
  {
   "cell_type": "markdown",
   "metadata": {},
   "source": [
    "### Running clustering algorithm"
   ]
  },
  {
   "cell_type": "code",
   "execution_count": 108,
   "metadata": {},
   "outputs": [],
   "source": [
    "clustering = AgglomerativeClustering(\n",
    "            affinity=\"precomputed\",\n",
    "            distance_threshold=0.04,\n",
    "            n_clusters=None,\n",
    "            linkage=\"average\")\n",
    "\n",
    "labels = clustering.fit_predict(distances)"
   ]
  },
  {
   "cell_type": "code",
   "execution_count": 89,
   "metadata": {},
   "outputs": [
    {
     "data": {
      "text/plain": [
       "(20000, 16110)"
      ]
     },
     "execution_count": 89,
     "metadata": {},
     "output_type": "execute_result"
    }
   ],
   "source": [
    "len(labels), len(set(labels))"
   ]
  },
  {
   "cell_type": "code",
   "execution_count": 90,
   "metadata": {},
   "outputs": [
    {
     "data": {
      "text/plain": [
       "array([0, 0], dtype=int64)"
      ]
     },
     "execution_count": 90,
     "metadata": {},
     "output_type": "execute_result"
    }
   ],
   "source": [
    "labels[labels == 0]"
   ]
  },
  {
   "cell_type": "code",
   "execution_count": 94,
   "metadata": {},
   "outputs": [
    {
     "name": "stdout",
     "output_type": "stream",
     "text": [
      "https://meduza.io/news/2014/10/22/kinokompaniyu-amedia-vystavili-na-prodazhu https://meduza.io/news/2015/12/10/restoran-praga-vystavili-na-prodazhu https://meduza.io/news/2016/01/10/osobnyak-osnovatelya-playboy-vystavyat-na-prodazhu https://meduza.io/news/2016/02/01/na-turetskih-kurortah-vystavili-na-prodazhu-1300-oteley\n"
     ]
    }
   ],
   "source": [
    "print(*dataset[:train_size][labels == 3]['url'])"
   ]
  }
 ],
 "metadata": {
  "kernelspec": {
   "display_name": "Python 3",
   "language": "python",
   "name": "python3"
  },
  "language_info": {
   "codemirror_mode": {
    "name": "ipython",
    "version": 3
   },
   "file_extension": ".py",
   "mimetype": "text/x-python",
   "name": "python",
   "nbconvert_exporter": "python",
   "pygments_lexer": "ipython3",
   "version": "3.7.4"
  }
 },
 "nbformat": 4,
 "nbformat_minor": 4
}
